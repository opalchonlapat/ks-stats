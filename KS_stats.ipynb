{
  "nbformat": 4,
  "nbformat_minor": 0,
  "metadata": {
    "colab": {
      "name": "KS_stats.ipynb",
      "version": "0.3.2",
      "provenance": [],
      "collapsed_sections": []
    },
    "kernelspec": {
      "name": "python3",
      "display_name": "Python 3"
    }
  },
  "cells": [
    {
      "cell_type": "markdown",
      "metadata": {
        "id": "RzwE7c7pce9h",
        "colab_type": "text"
      },
      "source": [
        "# KS Statistics (Kolmogorov–Smirnov)\n",
        "It compares the two cumulative distributions and returns the maximum difference between them. It is a non-parametric test which means you don't need to test any assumption related to the distribution of data. In data science, it compares the cumulative distribution of events and non-events and KS is where there is a maximum difference between the two distributions. In simple words, it helps us to understand how well our predictive model is able to discriminate between events and non-events."
      ]
    },
    {
      "cell_type": "markdown",
      "metadata": {
        "id": "cNiQ1PI5dMVZ",
        "colab_type": "text"
      },
      "source": [
        "### Method 1: Decile Method"
      ]
    },
    {
      "cell_type": "code",
      "metadata": {
        "id": "TXCGUw9Jd-6P",
        "colab_type": "code",
        "colab": {}
      },
      "source": [
        "%%capture\n",
        "!pip install colorama"
      ],
      "execution_count": 0,
      "outputs": []
    },
    {
      "cell_type": "code",
      "metadata": {
        "id": "GcRHGGytcVrG",
        "colab_type": "code",
        "colab": {}
      },
      "source": [
        "import pandas as pd\n",
        "import numpy as np\n",
        "df = pd.read_csv(\"https://raw.githubusercontent.com/deepanshu88/data/master/data.csv\")"
      ],
      "execution_count": 0,
      "outputs": []
    },
    {
      "cell_type": "code",
      "metadata": {
        "id": "-5UaDVUIdYdj",
        "colab_type": "code",
        "colab": {
          "base_uri": "https://localhost:8080/",
          "height": 204
        },
        "outputId": "8f86194f-0f36-48a3-da86-871e21d59952"
      },
      "source": [
        "df.head()"
      ],
      "execution_count": 3,
      "outputs": [
        {
          "output_type": "execute_result",
          "data": {
            "text/html": [
              "<div>\n",
              "<style scoped>\n",
              "    .dataframe tbody tr th:only-of-type {\n",
              "        vertical-align: middle;\n",
              "    }\n",
              "\n",
              "    .dataframe tbody tr th {\n",
              "        vertical-align: top;\n",
              "    }\n",
              "\n",
              "    .dataframe thead th {\n",
              "        text-align: right;\n",
              "    }\n",
              "</style>\n",
              "<table border=\"1\" class=\"dataframe\">\n",
              "  <thead>\n",
              "    <tr style=\"text-align: right;\">\n",
              "      <th></th>\n",
              "      <th>p</th>\n",
              "      <th>y</th>\n",
              "    </tr>\n",
              "  </thead>\n",
              "  <tbody>\n",
              "    <tr>\n",
              "      <th>0</th>\n",
              "      <td>0.063817</td>\n",
              "      <td>0</td>\n",
              "    </tr>\n",
              "    <tr>\n",
              "      <th>1</th>\n",
              "      <td>0.004442</td>\n",
              "      <td>0</td>\n",
              "    </tr>\n",
              "    <tr>\n",
              "      <th>2</th>\n",
              "      <td>0.150929</td>\n",
              "      <td>0</td>\n",
              "    </tr>\n",
              "    <tr>\n",
              "      <th>3</th>\n",
              "      <td>0.223016</td>\n",
              "      <td>0</td>\n",
              "    </tr>\n",
              "    <tr>\n",
              "      <th>4</th>\n",
              "      <td>0.067777</td>\n",
              "      <td>0</td>\n",
              "    </tr>\n",
              "  </tbody>\n",
              "</table>\n",
              "</div>"
            ],
            "text/plain": [
              "          p  y\n",
              "0  0.063817  0\n",
              "1  0.004442  0\n",
              "2  0.150929  0\n",
              "3  0.223016  0\n",
              "4  0.067777  0"
            ]
          },
          "metadata": {
            "tags": []
          },
          "execution_count": 3
        }
      ]
    },
    {
      "cell_type": "code",
      "metadata": {
        "id": "r2jtL_kedtYN",
        "colab_type": "code",
        "colab": {}
      },
      "source": [
        "def ks(data=None,target=None, prob=None):\n",
        "    data['target0'] = 1 - data[target]\n",
        "    data['bucket'] = pd.qcut(data[prob], 10)\n",
        "    grouped = data.groupby('bucket', as_index = False)\n",
        "    kstable = pd.DataFrame()\n",
        "    kstable['min_prob'] = grouped.min()[prob]\n",
        "    kstable['max_prob'] = grouped.max()[prob]\n",
        "    kstable['events']   = grouped.sum()[target]\n",
        "    kstable['nonevents'] = grouped.sum()['target0']\n",
        "    kstable = kstable.sort_values(by=\"min_prob\", ascending=False).reset_index(drop = True)\n",
        "    kstable['event_rate'] = (kstable.events / data[target].sum()).apply('{0:.2%}'.format)\n",
        "    kstable['nonevent_rate'] = (kstable.nonevents / data['target0'].sum()).apply('{0:.2%}'.format)\n",
        "    kstable['cum_eventrate']=(kstable.events / data[target].sum()).cumsum()\n",
        "    kstable['cum_noneventrate']=(kstable.nonevents / data['target0'].sum()).cumsum()\n",
        "    kstable['KS'] = np.round(kstable['cum_eventrate']-kstable['cum_noneventrate'], 3) * 100\n",
        "\n",
        "    #Formating\n",
        "    kstable['cum_eventrate']= kstable['cum_eventrate'].apply('{0:.2%}'.format)\n",
        "    kstable['cum_noneventrate']= kstable['cum_noneventrate'].apply('{0:.2%}'.format)\n",
        "    kstable.index = range(1,11)\n",
        "    kstable.index.rename('Decile', inplace=True)\n",
        "    pd.set_option('display.max_columns', 9)\n",
        "    print(kstable)\n",
        "    \n",
        "    #Display KS\n",
        "    from colorama import Fore\n",
        "    print(Fore.RED + \"KS is \" + str(max(kstable['KS']))+\"%\"+ \" at decile \" + str((kstable.index[kstable['KS']==max(kstable['KS'])][0])))\n",
        "    return(kstable)"
      ],
      "execution_count": 0,
      "outputs": []
    },
    {
      "cell_type": "code",
      "metadata": {
        "id": "HS7CZELMdx32",
        "colab_type": "code",
        "colab": {
          "base_uri": "https://localhost:8080/",
          "height": 459
        },
        "outputId": "f8c97402-eed0-40b6-c6e0-6bd88d5cf0c4"
      },
      "source": [
        "mydf = ks(data=df,target=\"y\", prob=\"p\")"
      ],
      "execution_count": 5,
      "outputs": [
        {
          "output_type": "stream",
          "text": [
            "        min_prob  max_prob  events  nonevents event_rate nonevent_rate  \\\n",
            "Decile                                                                   \n",
            "1       0.298894  0.975404      49         51     49.00%         5.67%   \n",
            "2       0.135598  0.298687      19         81     19.00%         9.00%   \n",
            "3       0.082170  0.135089      14         86     14.00%         9.56%   \n",
            "4       0.050369  0.082003      10         90     10.00%        10.00%   \n",
            "5       0.029415  0.050337       5         95      5.00%        10.56%   \n",
            "6       0.018343  0.029384       1         99      1.00%        11.00%   \n",
            "7       0.011504  0.018291       1         99      1.00%        11.00%   \n",
            "8       0.006976  0.011364       1         99      1.00%        11.00%   \n",
            "9       0.002929  0.006964       0        100      0.00%        11.11%   \n",
            "10      0.000073  0.002918       0        100      0.00%        11.11%   \n",
            "\n",
            "       cum_eventrate cum_noneventrate    KS  \n",
            "Decile                                       \n",
            "1             49.00%            5.67%  43.3  \n",
            "2             68.00%           14.67%  53.3  \n",
            "3             82.00%           24.22%  57.8  \n",
            "4             92.00%           34.22%  57.8  \n",
            "5             97.00%           44.78%  52.2  \n",
            "6             98.00%           55.78%  42.2  \n",
            "7             99.00%           66.78%  32.2  \n",
            "8            100.00%           77.78%  22.2  \n",
            "9            100.00%           88.89%  11.1  \n",
            "10           100.00%          100.00%   0.0  \n",
            "\u001b[31mKS is 57.8% at decile 3\n"
          ],
          "name": "stdout"
        }
      ]
    },
    {
      "cell_type": "markdown",
      "metadata": {
        "id": "G12bX2pGebL1",
        "colab_type": "text"
      },
      "source": [
        "### Method 2: KS Two Sample Test"
      ]
    },
    {
      "cell_type": "code",
      "metadata": {
        "id": "wMsk2bSDd0eN",
        "colab_type": "code",
        "colab": {}
      },
      "source": [
        "from scipy.stats import ks_2samp"
      ],
      "execution_count": 0,
      "outputs": []
    },
    {
      "cell_type": "code",
      "metadata": {
        "id": "DRp_xhoyej2i",
        "colab_type": "code",
        "colab": {
          "base_uri": "https://localhost:8080/",
          "height": 204
        },
        "outputId": "c49a7136-dcbf-4f77-9933-8b940d99f80e"
      },
      "source": [
        "df = pd.read_csv(\"https://raw.githubusercontent.com/deepanshu88/data/master/data.csv\")\n",
        "df.head()"
      ],
      "execution_count": 7,
      "outputs": [
        {
          "output_type": "execute_result",
          "data": {
            "text/html": [
              "<div>\n",
              "<style scoped>\n",
              "    .dataframe tbody tr th:only-of-type {\n",
              "        vertical-align: middle;\n",
              "    }\n",
              "\n",
              "    .dataframe tbody tr th {\n",
              "        vertical-align: top;\n",
              "    }\n",
              "\n",
              "    .dataframe thead th {\n",
              "        text-align: right;\n",
              "    }\n",
              "</style>\n",
              "<table border=\"1\" class=\"dataframe\">\n",
              "  <thead>\n",
              "    <tr style=\"text-align: right;\">\n",
              "      <th></th>\n",
              "      <th>p</th>\n",
              "      <th>y</th>\n",
              "    </tr>\n",
              "  </thead>\n",
              "  <tbody>\n",
              "    <tr>\n",
              "      <th>0</th>\n",
              "      <td>0.063817</td>\n",
              "      <td>0</td>\n",
              "    </tr>\n",
              "    <tr>\n",
              "      <th>1</th>\n",
              "      <td>0.004442</td>\n",
              "      <td>0</td>\n",
              "    </tr>\n",
              "    <tr>\n",
              "      <th>2</th>\n",
              "      <td>0.150929</td>\n",
              "      <td>0</td>\n",
              "    </tr>\n",
              "    <tr>\n",
              "      <th>3</th>\n",
              "      <td>0.223016</td>\n",
              "      <td>0</td>\n",
              "    </tr>\n",
              "    <tr>\n",
              "      <th>4</th>\n",
              "      <td>0.067777</td>\n",
              "      <td>0</td>\n",
              "    </tr>\n",
              "  </tbody>\n",
              "</table>\n",
              "</div>"
            ],
            "text/plain": [
              "          p  y\n",
              "0  0.063817  0\n",
              "1  0.004442  0\n",
              "2  0.150929  0\n",
              "3  0.223016  0\n",
              "4  0.067777  0"
            ]
          },
          "metadata": {
            "tags": []
          },
          "execution_count": 7
        }
      ]
    },
    {
      "cell_type": "code",
      "metadata": {
        "id": "bN7_H-Qbeg_o",
        "colab_type": "code",
        "colab": {
          "base_uri": "https://localhost:8080/",
          "height": 34
        },
        "outputId": "1b615200-e1a1-4ae1-e920-1c666385f0a5"
      },
      "source": [
        "ks_2samp(df.loc[df.y==0,\"p\"], df.loc[df.y==1,\"p\"])"
      ],
      "execution_count": 8,
      "outputs": [
        {
          "output_type": "execute_result",
          "data": {
            "text/plain": [
              "Ks_2sampResult(statistic=0.6033333333333334, pvalue=5.551115123125783e-16)"
            ]
          },
          "metadata": {
            "tags": []
          },
          "execution_count": 8
        }
      ]
    },
    {
      "cell_type": "markdown",
      "metadata": {
        "id": "FBwYY6q9e0y_",
        "colab_type": "text"
      },
      "source": [
        "### Reference\n",
        "https://www.listendata.com/2019/07/KS-Statistics-Python.html?fbclid=IwAR28juQMhqI5PT5IGHe47UkWS0uTG36EYBmkiXrAGE9iRxzLLzDuufCdpZI"
      ]
    }
  ]
}